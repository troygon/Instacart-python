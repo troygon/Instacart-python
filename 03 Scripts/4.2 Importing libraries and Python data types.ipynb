{
 "cells": [
  {
   "cell_type": "markdown",
   "id": "d04a60da-52e8-4a7d-ae5a-8375b95c2ddd",
   "metadata": {},
   "source": [
    "# 01. Importing Libraries"
   ]
  },
  {
   "cell_type": "code",
   "execution_count": 19,
   "id": "c02e3b00-b3d4-4b82-b255-0ee6d8fc941d",
   "metadata": {},
   "outputs": [],
   "source": [
    "# Import libraries\n",
    "import pandas as pd\n",
    "import numpy as np\n",
    "import os"
   ]
  },
  {
   "cell_type": "markdown",
   "id": "eb4d9eb2-1e7a-43af-a1a3-5c5d8ac2eb83",
   "metadata": {},
   "source": [
    "# 02. Working with Data Types"
   ]
  },
  {
   "cell_type": "code",
   "execution_count": 45,
   "id": "0a694f11-d0d8-4b4b-aadb-9a0e825160c0",
   "metadata": {},
   "outputs": [],
   "source": [
    "x = 10\n",
    "y = 90\n",
    "z = 83\n",
    "a = 29\n",
    "b = 12"
   ]
  },
  {
   "cell_type": "code",
   "execution_count": 47,
   "id": "9645af1c-25b7-4078-bf66-d658bb2e7f46",
   "metadata": {},
   "outputs": [
    {
     "name": "stdout",
     "output_type": "stream",
     "text": [
      "100\n"
     ]
    }
   ],
   "source": [
    "print(x+y)"
   ]
  },
  {
   "cell_type": "code",
   "execution_count": 49,
   "id": "8342a697-85fe-4018-a0c8-15ef8e0b3a86",
   "metadata": {},
   "outputs": [
    {
     "name": "stdout",
     "output_type": "stream",
     "text": [
      "100\n"
     ]
    }
   ],
   "source": [
    "print(z+a-b)"
   ]
  },
  {
   "cell_type": "code",
   "execution_count": 53,
   "id": "b3ac9467-51da-4427-b09f-bb9634dc1f15",
   "metadata": {},
   "outputs": [
    {
     "name": "stdout",
     "output_type": "stream",
     "text": [
      "100\n"
     ]
    }
   ],
   "source": [
    "print(x**2)"
   ]
  },
  {
   "cell_type": "code",
   "execution_count": 55,
   "id": "3e40d907-17b2-4566-b1e4-9c88f6ba7d77",
   "metadata": {},
   "outputs": [],
   "source": [
    "c = 365.25\n",
    "d = 51.99"
   ]
  },
  {
   "cell_type": "code",
   "execution_count": 57,
   "id": "cf9776d4-adfc-4e63-a236-e8a3011cc79d",
   "metadata": {},
   "outputs": [
    {
     "name": "stdout",
     "output_type": "stream",
     "text": [
      "7.02538949798038\n"
     ]
    }
   ],
   "source": [
    "print(c/d)"
   ]
  },
  {
   "cell_type": "code",
   "execution_count": 59,
   "id": "f25828c9-c2bf-47cc-81de-df78166ca40f",
   "metadata": {},
   "outputs": [],
   "source": [
    "e = 'My '\n",
    "f = 'name '\n",
    "g = 'is '\n",
    "h = 'Troy.'"
   ]
  },
  {
   "cell_type": "code",
   "execution_count": 61,
   "id": "f3f72734-deae-4314-9ff6-781fef31b4d9",
   "metadata": {},
   "outputs": [
    {
     "name": "stdout",
     "output_type": "stream",
     "text": [
      "My name is Troy.\n"
     ]
    }
   ],
   "source": [
    "print (e+f+g+h)"
   ]
  },
  {
   "cell_type": "code",
   "execution_count": 69,
   "id": "5d6c1e9c-a686-42d6-b01f-b630067f3153",
   "metadata": {},
   "outputs": [],
   "source": [
    "i = 'Hallo! ' \n",
    "j = 'I live in Berlin.'"
   ]
  },
  {
   "cell_type": "code",
   "execution_count": 71,
   "id": "c6d945df-177f-4747-a245-8e80d7df13cb",
   "metadata": {},
   "outputs": [
    {
     "data": {
      "text/plain": [
       "'Hallo! I live in Berlin.'"
      ]
     },
     "execution_count": 71,
     "metadata": {},
     "output_type": "execute_result"
    }
   ],
   "source": [
    "i + j"
   ]
  },
  {
   "cell_type": "code",
   "execution_count": null,
   "id": "f9505ac0-cf3b-4061-a302-ff208b91aa92",
   "metadata": {},
   "outputs": [],
   "source": []
  }
 ],
 "metadata": {
  "kernelspec": {
   "display_name": "Python 3 (ipykernel)",
   "language": "python",
   "name": "python3"
  },
  "language_info": {
   "codemirror_mode": {
    "name": "ipython",
    "version": 3
   },
   "file_extension": ".py",
   "mimetype": "text/x-python",
   "name": "python",
   "nbconvert_exporter": "python",
   "pygments_lexer": "ipython3",
   "version": "3.12.7"
  }
 },
 "nbformat": 4,
 "nbformat_minor": 5
}
